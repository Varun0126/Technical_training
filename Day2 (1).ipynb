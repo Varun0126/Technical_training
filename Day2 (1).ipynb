{
 "cells": [
  {
   "cell_type": "code",
   "execution_count": null,
   "metadata": {
    "colab": {
     "base_uri": "https://localhost:8080/"
    },
    "id": "B9gaoHU0GyJ7",
    "outputId": "ea35f39e-cde2-4c39-edea-a1479a3f041e"
   },
   "outputs": [
    {
     "name": "stdout",
     "output_type": "stream",
     "text": [
      "1 10\n",
      "2 9\n",
      "4 7\n",
      "5 6\n"
     ]
    }
   ],
   "source": [
    "#break and continue\n",
    "for i in range(1,6):\n",
    "  if i==3 :\n",
    "    continue;\n",
    "  print(i,11-i)"
   ]
  },
  {
   "cell_type": "code",
   "execution_count": null,
   "metadata": {
    "id": "JiGGacPzLJn-"
   },
   "outputs": [],
   "source": [
    "# Neseted Loop\n",
    "# outer loop represent rows\n",
    "# inner loop represent coloumns"
   ]
  },
  {
   "cell_type": "code",
   "execution_count": null,
   "metadata": {
    "colab": {
     "base_uri": "https://localhost:8080/"
    },
    "id": "4z8hlSRpJFRN",
    "outputId": "afc8bc21-2660-4adf-d650-0c2eee77cc9a"
   },
   "outputs": [
    {
     "name": "stdout",
     "output_type": "stream",
     "text": [
      "1 1 1 1 \n",
      "2 2 2 2 \n",
      "3 3 3 3 \n",
      "4 4 4 4 \n"
     ]
    }
   ],
   "source": [
    "for i in range(1,5):\n",
    "  for j in range(1,5):\n",
    "    print(i,end=\" \")\n",
    "  print()\n"
   ]
  },
  {
   "cell_type": "code",
   "execution_count": null,
   "metadata": {
    "colab": {
     "base_uri": "https://localhost:8080/"
    },
    "id": "Wm-qQYonKteq",
    "outputId": "915a38d3-4668-4bd2-c62b-785bde7bb3f1"
   },
   "outputs": [
    {
     "name": "stdout",
     "output_type": "stream",
     "text": [
      "1 2 3 4 \n",
      "5 6 7 8 \n",
      "9 10 11 12 \n",
      "13 14 15 16 \n"
     ]
    }
   ],
   "source": [
    "n=1\n",
    "for i in range(1,5):\n",
    "  for j in range(1,5):\n",
    "    print(n,end=\" \")\n",
    "    n+=1\n",
    "  print()\n",
    "5 6 7 8\n",
    "9 10 11 12\n",
    "13 14 15 16"
   ]
  },
  {
   "cell_type": "code",
   "execution_count": null,
   "metadata": {
    "colab": {
     "base_uri": "https://localhost:8080/"
    },
    "id": "2GrK9h3xM4lY",
    "outputId": "0e78d6d2-7b37-4e28-f72a-5d7ce2e0ae37"
   },
   "outputs": [
    {
     "name": "stdout",
     "output_type": "stream",
     "text": [
      "A B C D \n",
      "E F G H \n",
      "I J K L \n",
      "M N O P \n"
     ]
    }
   ],
   "source": [
    "n=65\n",
    "for i in range(1,5):\n",
    "  for j in range(1,5):\n",
    "    print(chr(n),end=\" \")\n",
    "    n+=1\n",
    "  print()"
   ]
  },
  {
   "cell_type": "code",
   "execution_count": null,
   "metadata": {
    "colab": {
     "base_uri": "https://localhost:8080/"
    },
    "id": "Erx66-k1M8If",
    "outputId": "240a01ea-51b7-42c1-d435-ccfb45cd1c35"
   },
   "outputs": [
    {
     "name": "stdout",
     "output_type": "stream",
     "text": [
      "1\n",
      "22\n",
      "333\n",
      "4444\n"
     ]
    }
   ],
   "source": [
    "for i in range(1,5):\n",
    "  for j in range(1,i+1):\n",
    "    print(i,end=\"\")\n",
    "  print()"
   ]
  },
  {
   "cell_type": "code",
   "execution_count": null,
   "metadata": {
    "colab": {
     "base_uri": "https://localhost:8080/"
    },
    "id": "K0fwAopyNfUl",
    "outputId": "a1d06114-a76f-4306-f9cf-065c25302227"
   },
   "outputs": [
    {
     "name": "stdout",
     "output_type": "stream",
     "text": [
      "*****\n",
      "****\n",
      "***\n",
      "**\n",
      "*\n"
     ]
    }
   ],
   "source": [
    "for i in range(5,0,-1):\n",
    "  for j in range(1,i+1):\n",
    "    print(\"*\",end=\"\")\n",
    "  print()"
   ]
  },
  {
   "cell_type": "code",
   "execution_count": null,
   "metadata": {
    "colab": {
     "base_uri": "https://localhost:8080/"
    },
    "id": "pQi5kqeHOp5S",
    "outputId": "f3e8d7fa-e8bd-470d-8b3c-54ced0c89ade"
   },
   "outputs": [
    {
     "name": "stdout",
     "output_type": "stream",
     "text": [
      "   *\n",
      "  **\n",
      " ***\n",
      "****\n"
     ]
    }
   ],
   "source": [
    "for i in range(1,5):\n",
    "  for k in range(1,5-i):\n",
    "    print(\" \",end=\"\")\n",
    "  for j in range(1,i+1):\n",
    "    print(\"*\",end=\"\")\n",
    "  print()"
   ]
  },
  {
   "cell_type": "code",
   "execution_count": null,
   "metadata": {
    "colab": {
     "base_uri": "https://localhost:8080/"
    },
    "id": "Ta26nEFFPB0W",
    "outputId": "578b0b7c-bf24-4a19-cf2e-2fccad478187"
   },
   "outputs": [
    {
     "name": "stdout",
     "output_type": "stream",
     "text": [
      "****\n",
      " ***\n",
      "  **\n",
      "   *\n"
     ]
    }
   ],
   "source": [
    "for i in range(1,5):\n",
    "  for k in range(1,i):\n",
    "    print(\" \",end=\"\")\n",
    "  for j in range(1,6-i):\n",
    "    print(\"*\",end=\"\")\n",
    "  print()"
   ]
  },
  {
   "cell_type": "markdown",
   "metadata": {
    "id": "cqAWenApR-sZ"
   },
   "source": [
    "To delete object use Del keyword"
   ]
  },
  {
   "cell_type": "markdown",
   "metadata": {
    "id": "Q69Ri0k5Sk6N"
   },
   "source": [
    "String in Python\n",
    "\n",
    "Finding Substrings:\n",
    "We can use the following 4 methods\n",
    "For forward direction:\n",
    "find()\n",
    "For backward direction:\n",
    "rfind()\n",
    "\n",
    "Returns index of first occurrence of the given substring.\n",
    "If it is not available then we will get -1"
   ]
  },
  {
   "cell_type": "code",
   "execution_count": null,
   "metadata": {
    "colab": {
     "base_uri": "https://localhost:8080/"
    },
    "id": "GFlCv7NHSqCR",
    "outputId": "96641996-c166-45e9-9c34-fe48eaff6c13"
   },
   "outputs": [
    {
     "name": "stdout",
     "output_type": "stream",
     "text": [
      "9\n",
      "-1\n",
      "3\n",
      "43\n"
     ]
    }
   ],
   "source": [
    "#find() rfind()\n",
    "\n",
    "s=\"Learning Python is very easy from Ashish Sir\"\n",
    "print(s.find(\"Python\"))\n",
    "print(s.find(\"Java\"))\n",
    "print(s.find(\"r\"))\n",
    "print(s.rfind(\"r\"))\n",
    "\n"
   ]
  },
  {
   "cell_type": "code",
   "execution_count": null,
   "metadata": {
    "colab": {
     "base_uri": "https://localhost:8080/"
    },
    "id": "Djb2OW-MTHZl",
    "outputId": "4451ab13-dc88-4f3f-a212-0645177b74e6"
   },
   "outputs": [
    {
     "name": "stdout",
     "output_type": "stream",
     "text": [
      "6\n",
      "4\n",
      "3\n"
     ]
    }
   ],
   "source": [
    "s=\"abcabcabcabcadda,\"\n",
    "print(s.count('a'))\n",
    "print(s.count('ab'))\n",
    "print(s.count('a',3,10))"
   ]
  },
  {
   "cell_type": "code",
   "execution_count": null,
   "metadata": {
    "colab": {
     "base_uri": "https://localhost:8080/"
    },
    "id": "N-CCaKGAThks",
    "outputId": "e59794d4-f9a9-4d9b-8def-5f090dd40172"
   },
   "outputs": [
    {
     "name": "stdout",
     "output_type": "stream",
     "text": [
      "Learning Python is very difficult from Ashish Sir\n",
      "Learning Python is very easy from Ashish Sir\n",
      "bbbbbbbbbbbbbb\n"
     ]
    }
   ],
   "source": [
    "#s.replace(oldstring, newstring):\n",
    "#inside s, every occurrence of oldstring will be replaced with\n",
    "#newstring.\n",
    "#Eg1:\n",
    "s=\"Learning Python is very difficult from Ashish Sir\"\n",
    "s1=s.replace(\"difficult\",\"easy\")\n",
    "print(s)\n",
    "print(s1)\n",
    "#Output :\n",
    "#Learning Python is very easy from Ashish Sir\n",
    "\n",
    "#Eg2: All occurrences will be replaced\n",
    "s=\"ababababababab\"\n",
    "s1=s.replace(\"a\",\"b\")\n",
    "print(s1)\n",
    "#Output: bbbbbbbbbbbbbb"
   ]
  },
  {
   "cell_type": "code",
   "execution_count": null,
   "metadata": {
    "colab": {
     "base_uri": "https://localhost:8080/"
    },
    "id": "ECKs5PoXV_u9",
    "outputId": "51b6a88e-21fa-4b28-f3dd-c8398dc6cee8"
   },
   "outputs": [
    {
     "name": "stdout",
     "output_type": "stream",
     "text": [
      "['Learning', 'Python', 'is', 'very', 'difficult', 'from', 'Ashish', 'Sir']\n",
      "<class 'list'>\n",
      "Learning\n",
      "Python\n",
      "is\n",
      "very\n",
      "difficult\n",
      "from\n",
      "Ashish\n",
      "Sir\n"
     ]
    }
   ],
   "source": [
    "s=\"Learning Python is very difficult from Ashish Sir\"\n",
    "l=s.split()\n",
    "print(l)\n",
    "print(type(l))\n",
    "for x in l:\n",
    "  print(x)"
   ]
  },
  {
   "cell_type": "code",
   "execution_count": null,
   "metadata": {
    "colab": {
     "base_uri": "https://localhost:8080/"
    },
    "id": "TALBjSU8Xt_q",
    "outputId": "12ef2d25-2991-4c09-f929-3142167a0b76"
   },
   "outputs": [
    {
     "name": "stdout",
     "output_type": "stream",
     "text": [
      "['22', '02', '2022']\n",
      "<class 'list'>\n",
      "22\n",
      "02\n",
      "2022\n"
     ]
    }
   ],
   "source": [
    "s=\"22#02#2022\"\n",
    "l=s.split(\"#\")\n",
    "print(l)\n",
    "print(type(l))\n",
    "for x in l:\n",
    "  print(x)"
   ]
  },
  {
   "cell_type": "code",
   "execution_count": null,
   "metadata": {
    "colab": {
     "base_uri": "https://localhost:8080/"
    },
    "id": "gVXJpvumYqF6",
    "outputId": "cd372bc3-2b60-40c4-e8b1-c11bc403fd51"
   },
   "outputs": [
    {
     "name": "stdout",
     "output_type": "stream",
     "text": [
      "ayush is real gay\n"
     ]
    }
   ],
   "source": [
    "#join function\n",
    "l=[\"ayush\",\"is\",\"real\",\"gay\"]\n",
    "s=\" \".join(l)\n",
    "print(s)"
   ]
  },
  {
   "cell_type": "code",
   "execution_count": null,
   "metadata": {
    "colab": {
     "base_uri": "https://localhost:8080/"
    },
    "id": "zMonrimZY_OD",
    "outputId": "539e22e9-b9d0-4f33-f1e7-57d7911e979b"
   },
   "outputs": [
    {
     "name": "stdout",
     "output_type": "stream",
     "text": [
      "AYUSH IS REAL GAY\n",
      "ayush is real gay\n",
      "Ayush Is Real Gay\n"
     ]
    }
   ],
   "source": [
    "a=s.upper()\n",
    "print(a)\n",
    "print(a.lower())\n",
    "print(a.title())"
   ]
  },
  {
   "cell_type": "code",
   "execution_count": null,
   "metadata": {
    "colab": {
     "base_uri": "https://localhost:8080/"
    },
    "id": "XtRJ-4tOZaRC",
    "outputId": "c0bc73a6-5dc8-4cfa-c5e5-358e6488df5a"
   },
   "outputs": [
    {
     "name": "stdout",
     "output_type": "stream",
     "text": [
      "learning python is very difficult from ashish sir\n",
      "LEARNING PYTHON IS VERY DIFFICULT FROM ASHISH SIR\n",
      "True\n",
      "True\n",
      "False\n"
     ]
    }
   ],
   "source": [
    "s = \"Learning Python is very difficult from Ashish Sir\"\n",
    "print(s.lower())\n",
    "print(s.upper())\n",
    "print(s.startswith('Learning'))\n",
    "print(s.endswith('Sir'))\n",
    "print(s.endswith('sir'))"
   ]
  },
  {
   "cell_type": "code",
   "execution_count": null,
   "metadata": {
    "id": "xma4emHHaGSo"
   },
   "outputs": [],
   "source": [
    "# To check type of characters present in a string:\n",
    "\n",
    "# Python contains the following methods:\n",
    "# 1) isalnum(): Returns True if all characters are alphanumeric\n",
    "# ( a to z , A to Z ,0 to9 )\n",
    "# 2) isalpha(): Returns True if all characters are only alphabet\n",
    "# symbols(a to z,A to Z)\n",
    "# 3) isdigit(): Returns True if all characters are digits only(\n",
    "# 0 to 9)\n",
    "# 4) islower(): Returns True if all characters are lower case\n",
    "# alphabet symbolsI\n",
    "# 5) isupper(): Returns True if all characters are upper case\n",
    "# aplhabet symbols\n",
    "# 6) istitle(): Returns True if string is in title case\n",
    "# 7) isspace(): Returns True if string contains only spaces"
   ]
  },
  {
   "cell_type": "code",
   "execution_count": null,
   "metadata": {
    "colab": {
     "base_uri": "https://localhost:8080/"
    },
    "id": "k7HMzAR9a9Jd",
    "outputId": "99837783-d19a-4b3c-efcd-202f78f4fff1"
   },
   "outputs": [
    {
     "name": "stdout",
     "output_type": "stream",
     "text": [
      "enter your mobile number:657132145\n",
      "enter 10 digit only\n"
     ]
    }
   ],
   "source": [
    "x=input(\"enter your mobile number:\")\n",
    "if x.isdigit() and len(x)==10:\n",
    "  if(s.startswith('6') or s.startswith('7') or s.startswith('8') or s.startswith('9')):\n",
    "    print(\"valid number\")\n",
    "  else:\n",
    "    print(\"Not valid in Indian \")\n",
    "else:\n",
    "  print(\"enter 10 digit only\")"
   ]
  },
  {
   "cell_type": "markdown",
   "metadata": {
    "id": "8LMymovV8lhh"
   },
   "source": [
    "# List Operation\n"
   ]
  },
  {
   "cell_type": "code",
   "execution_count": 2,
   "metadata": {
    "colab": {
     "base_uri": "https://localhost:8080/"
    },
    "id": "rXTYAOqhbZmw",
    "outputId": "567c6b74-8486-4b22-b0f2-c80e43d73830"
   },
   "outputs": [
    {
     "name": "stdout",
     "output_type": "stream",
     "text": [
      "[10, 20, 10, 30, 2, 42, 4, 24, 2]\n",
      "[10, 20, 10, 30, 10, 20, 10, 30, 10, 20, 10, 30]\n"
     ]
    }
   ],
   "source": [
    "n1=[10,20,10,30]\n",
    "n2=[2,42,4,24,2]\n",
    "res=n1+n2\n",
    "print(res)\n",
    "res1=n1*3\n",
    "print(res1)"
   ]
  },
  {
   "cell_type": "code",
   "execution_count": 4,
   "metadata": {
    "colab": {
     "base_uri": "https://localhost:8080/"
    },
    "id": "gceZRIrK8hUw",
    "outputId": "f761f5b6-2bda-49bf-8df3-274a37f11497"
   },
   "outputs": [
    {
     "name": "stdout",
     "output_type": "stream",
     "text": [
      "10\n",
      "30\n",
      "[23, 56, 23]\n",
      "23\n"
     ]
    }
   ],
   "source": [
    "n=[10,20,30,[23,56,23]]\n",
    "print(n[0])\n",
    "print(n[2])\n",
    "print(n[3])\n",
    "print(n[3][0])\n",
    "\n"
   ]
  },
  {
   "cell_type": "markdown",
   "metadata": {
    "id": "xkhUKhdr-IgU"
   },
   "source": [
    "# Neseted List\n"
   ]
  },
  {
   "cell_type": "code",
   "execution_count": 6,
   "metadata": {
    "colab": {
     "base_uri": "https://localhost:8080/"
    },
    "id": "ag53bQSk9IU-",
    "outputId": "d9022ab1-b91d-4f5b-89d6-68a63c8ee6aa"
   },
   "outputs": [
    {
     "name": "stdout",
     "output_type": "stream",
     "text": [
      "[[10, 20, 30], [40, 50, 60], [70, 80, 90]]\n",
      "Elements by Row wise:\n",
      "[10, 20, 30]\n",
      "[40, 50, 60]\n",
      "[70, 80, 90]\n",
      "Elements by Matrix style:\n",
      "10 20 30 \n",
      "40 50 60 \n",
      "70 80 90 \n"
     ]
    }
   ],
   "source": [
    "\n",
    "n=[[10,20,30],[40,50,60], [70,80,90]]\n",
    "print(n)\n",
    "print(\"Elements by Row wise:\")\n",
    "for r in n:\n",
    "  print(r)\n",
    "print(\"Elements by Matrix style:\")\n",
    "for i in range(len(n)):\n",
    "  for j in range(len(n[i])):\n",
    "    print(n[i][j],end=' ')\n",
    "  print()\n"
   ]
  },
  {
   "cell_type": "code",
   "execution_count": 3,
   "metadata": {
    "colab": {
     "base_uri": "https://localhost:8080/"
    },
    "id": "NywFcXP49e6S",
    "outputId": "ce2b2928-075e-4dd8-b8fe-b825dda3ed31"
   },
   "outputs": [
    {
     "name": "stdout",
     "output_type": "stream",
     "text": [
      "Enter no. of semesters: 1\n",
      "Enter no of subject in 1 semester: 1\n",
      "marks obtained in semester 1\n",
      "101\n",
      "you have entered marks greater than 100\n",
      "please re enter\n",
      "200\n",
      "you have entered marks greater than 100\n",
      "please re enter\n",
      "1\n",
      "maximum mark in semester 1 : 1\n"
     ]
    }
   ],
   "source": [
    "#Capjemini Question\n",
    "\n",
    "n = int(input(\"Enter no. of semesters: \"))\n",
    "noOfSub=[]\n",
    "for i in range(n):\n",
    "    m = int(input(f\"Enter no of subject in {i+1} semester: \"))\n",
    "    noOfSub.append(m)\n",
    "max_marks = []\n",
    "for i in range(len(noOfSub)):\n",
    "    marks=[]\n",
    "    print(f\"marks obtained in semester {i+1}\")\n",
    "    for j in range(noOfSub[i]):\n",
    "        x = int(input())\n",
    "        if(x>100):\n",
    "            f = True\n",
    "            while(f):\n",
    "                print(\"you have entered marks greater than 100\\nplease re enter\")\n",
    "                x=int(input())\n",
    "                if(x<=100):\n",
    "                    f=False\n",
    "        marks.append(x)\n",
    "    max_marks.append( max(marks))\n",
    "for i in range(len(max_marks)):\n",
    "    print(f\"maximum mark in semester {i+1} :\" , max_marks[i])"
   ]
  },
  {
   "cell_type": "markdown",
   "metadata": {},
   "source": [
    "# SET Data Structure"
   ]
  },
  {
   "cell_type": "code",
   "execution_count": 2,
   "metadata": {
    "id": "c89HBJ0U__dH"
   },
   "outputs": [
    {
     "name": "stdout",
     "output_type": "stream",
     "text": [
      "[21, 32, 4, 12, 4, 5, 2, 12, 3, 4, 1, 1, 1, 1, 3, 4, 4]\n",
      "{32, 1, 2, 3, 4, 5, 12, 21}\n"
     ]
    }
   ],
   "source": [
    "#Remove Duplicate from list\n",
    "list = [21,32,4,12,4,5,2,12,3,4,1,1,1,1,3,4,4]\n",
    "print(list)\n",
    "s = set(list)\n",
    "print(s)"
   ]
  },
  {
   "cell_type": "markdown",
   "metadata": {},
   "source": [
    "# Dictionary Data Structure"
   ]
  },
  {
   "cell_type": "code",
   "execution_count": 3,
   "metadata": {},
   "outputs": [
    {
     "name": "stdout",
     "output_type": "stream",
     "text": [
      "{100: 'ayush', 200: 'lakhan', 300: 'jash', 400: 'choco', 101: 'Ayush', 102: 'Jassssh'}\n",
      "{100: 'Varun', 200: 'lakhan', 300: 'jash', 400: 'choco', 101: 'Ayush', 102: 'Jassssh'}\n"
     ]
    }
   ],
   "source": [
    "d = {100:'ayush' , 200:'lakhan' , 300:'jash' , 400:'choco'}\n",
    "d[101] = \"Ayush\"\n",
    "d[102] = \"Jassssh\"\n",
    "print(d)\n",
    "d[100] = \"Varun\"\n",
    "print(d)"
   ]
  },
  {
   "cell_type": "code",
   "execution_count": 6,
   "metadata": {},
   "outputs": [
    {
     "name": "stdin",
     "output_type": "stream",
     "text": [
      "Enter number of students:  2\n",
      "Enter Student Name:  Jash Sexy\n",
      "Enter % of Marks of Student:  69\n",
      "Enter Student Name:  Ayus Gay\n",
      "Enter % of Marks of Student:  66\n"
     ]
    },
    {
     "name": "stdout",
     "output_type": "stream",
     "text": [
      "Name\tMarks\n",
      "-------------------------\n",
      "Jash Sexy \t 69\n",
      "Ayus Gay \t 66\n"
     ]
    }
   ],
   "source": [
    "rec={}\n",
    "n=int(input(\"Enter number of students: \"))\n",
    "for i in range(0,n):\n",
    "    name=input(\"Enter Student Name: \")\n",
    "    marks=input(\"Enter % of Marks of Student: \")\n",
    "    rec[name]=marks\n",
    "\n",
    "print(\"Name\\tMarks\")\n",
    "print(\"-------------------------\")\n",
    "for i in rec:\n",
    "    print(i,\"\\t\",rec[i])"
   ]
  },
  {
   "cell_type": "code",
   "execution_count": 7,
   "metadata": {},
   "outputs": [
    {
     "name": "stdout",
     "output_type": "stream",
     "text": [
      "ashish\n",
      "ashish\n",
      "None\n",
      "ashish\n",
      "Guest\n"
     ]
    }
   ],
   "source": [
    "d={100: 'ashish' ,200: 'Prashant', 300: 'sandip'}\n",
    "print(d[100])\n",
    "#print(d[400])\n",
    "print(d.get(100))\n",
    "print(d.get(400))\n",
    "print(d.get(100,\"Guest\"))\n",
    "print(d.get(400,\"Guest\"))"
   ]
  },
  {
   "cell_type": "code",
   "execution_count": 9,
   "metadata": {},
   "outputs": [
    {
     "name": "stdout",
     "output_type": "stream",
     "text": [
      "dict_keys([100, 200, 300])\n",
      "100\n",
      "200\n",
      "300\n"
     ]
    }
   ],
   "source": [
    "d={100: 'ashish' ,200: 'Prashant', 300: 'sandip'}\n",
    "print(d.keys())\n",
    "for k in d.keys():\n",
    "    print(k)\n"
   ]
  },
  {
   "cell_type": "code",
   "execution_count": 11,
   "metadata": {},
   "outputs": [
    {
     "name": "stdout",
     "output_type": "stream",
     "text": [
      "dict_values(['ashish', 'Prashant', 'sandip'])\n",
      "ashish\n",
      "Prashant\n",
      "sandip\n"
     ]
    }
   ],
   "source": [
    "d={100: 'ashish' ,200: 'Prashant', 300: 'sandip'}\n",
    "print(d.values())\n",
    "for k in d.values():\n",
    "    print(k)\n"
   ]
  },
  {
   "cell_type": "code",
   "execution_count": 1,
   "metadata": {},
   "outputs": [
    {
     "name": "stdin",
     "output_type": "stream",
     "text": [
      "enter the number of values 3\n",
      "Enter the 1 value 2\n",
      "Enter the 2 value 1\n",
      "Enter the 3 value 3\n"
     ]
    },
    {
     "name": "stdout",
     "output_type": "stream",
     "text": [
      "6 is the sum of value\n",
      "{0: 2, 1: 1, 2: 3}\n"
     ]
    }
   ],
   "source": [
    "d={}\n",
    "sum=0\n",
    "n=int(input(\"enter the number of values\"))\n",
    "for i in range(n):\n",
    "    x=int(input(f\"Enter the {i+1} value\"))\n",
    "    d[i]=x\n",
    "for k,v in d.items():\n",
    "    sum=sum+v\n",
    "print(f\"{sum} is the sum of value\")\n",
    "print(d)"
   ]
  },
  {
   "cell_type": "code",
   "execution_count": 3,
   "metadata": {},
   "outputs": [
    {
     "name": "stdin",
     "output_type": "stream",
     "text": [
      "Enter n:  2\n",
      "Enter name:  Ayush\n",
      "Enter marks:  98\n",
      "Enter name:  Jash\n",
      "Enter marks:  69\n",
      "whose marks?  Ayush\n"
     ]
    },
    {
     "name": "stdout",
     "output_type": "stream",
     "text": [
      "98\n"
     ]
    }
   ],
   "source": [
    "dict = {}\n",
    "n = int(input(\"Enter n: \"))\n",
    "for i in range(n):\n",
    "    x  = (input(\"Enter name: \"))\n",
    "    y = int(input(\"Enter marks: \"))\n",
    "    dict[x] = y\n",
    "z = input(\"whose marks? \")\n",
    "print(dict[z])"
   ]
  },
  {
   "cell_type": "code",
   "execution_count": 23,
   "metadata": {},
   "outputs": [
    {
     "name": "stdout",
     "output_type": "stream",
     "text": [
      "[3, 4, 4, 34, 34, -1, 6, 7, -1]\n"
     ]
    }
   ],
   "source": [
    "arr=[1,3,2,4,2,34,5,6,7]\n",
    "ans=[]\n",
    "for i in range(len(arr)):\n",
    "    max=-1\n",
    "    for j in range(i+1,len(arr),1):\n",
    "        if(arr[j]>arr[i] ):\n",
    "            max=arr[j]\n",
    "            break;    \n",
    "    ans.append(max)     \n",
    "print(ans)\n",
    "        "
   ]
  },
  {
   "cell_type": "code",
   "execution_count": 37,
   "metadata": {},
   "outputs": [
    {
     "data": {
      "text/plain": [
       "'a2b4e4f2g3'"
      ]
     },
     "execution_count": 37,
     "metadata": {},
     "output_type": "execute_result"
    }
   ],
   "source": [
    "s=\"aabbbbeeeeffggg\"\n",
    "ans=[]\n",
    "c=1\n",
    "for i in range(1,len(s)):\n",
    "    if s[i]==s[i-1]:\n",
    "        c+=1\n",
    "    else:\n",
    "        ans.append(s[i-1]+str(c))\n",
    "        c=1\n",
    "ans.append(s[-1]+str(c))\n",
    "c_s=''.join(ans)\n",
    "c_s"
   ]
  },
  {
   "cell_type": "code",
   "execution_count": 47,
   "metadata": {},
   "outputs": [
    {
     "name": "stdin",
     "output_type": "stream",
     "text": [
      "Enter 1st String:  varun\n",
      "Enter 2nd String:  runva\n"
     ]
    },
    {
     "name": "stdout",
     "output_type": "stream",
     "text": [
      "True\n"
     ]
    }
   ],
   "source": [
    "str1 = input(\"Enter 1st String: \").lower()\n",
    "str2 = input(\"Enter 2nd String: \").lower()\n",
    "\n",
    "str1 = ''.join(sorted(str1))\n",
    "str2 = ''.join(sorted(str2))\n",
    "\n",
    "f = str1 == str2\n",
    "print(f)"
   ]
  },
  {
   "cell_type": "code",
   "execution_count": null,
   "metadata": {},
   "outputs": [],
   "source": []
  }
 ],
 "metadata": {
  "colab": {
   "provenance": []
  },
  "kernelspec": {
   "display_name": "Python 3 (ipykernel)",
   "language": "python",
   "name": "python3"
  },
  "language_info": {
   "codemirror_mode": {
    "name": "ipython",
    "version": 3
   },
   "file_extension": ".py",
   "mimetype": "text/x-python",
   "name": "python",
   "nbconvert_exporter": "python",
   "pygments_lexer": "ipython3",
   "version": "3.12.4"
  }
 },
 "nbformat": 4,
 "nbformat_minor": 4
}
