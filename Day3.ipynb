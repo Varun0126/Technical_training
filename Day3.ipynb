{
 "cells": [
  {
   "cell_type": "code",
   "execution_count": 16,
   "id": "7324aa41-2019-42b9-a906-e6613b5bdcfe",
   "metadata": {},
   "outputs": [
    {
     "name": "stdout",
     "output_type": "stream",
     "text": [
      "[1, 2, 3, 4, 5, 6, 7, 8, 10]\n",
      "9\n"
     ]
    }
   ],
   "source": [
    "#missing number in array\n",
    "a=[6,1,2,8,3,4,7,10,5]\n",
    "a.sort()\n",
    "print(a)\n",
    "for i in range(len(a)-1):\n",
    "    if(a[i]+1!=a[i+1]):\n",
    "        print(a[i]+1)\n",
    "        break"
   ]
  },
  {
   "cell_type": "code",
   "execution_count": 28,
   "id": "cc0a592a-a4c5-4a7e-aed9-0f0f63b8b70a",
   "metadata": {},
   "outputs": [
    {
     "name": "stdout",
     "output_type": "stream",
     "text": [
      "hello\n"
     ]
    }
   ],
   "source": [
    "def show():\n",
    "    print('hello')\n",
    "if __name__ == '__main__':\n",
    "    show()"
   ]
  },
  {
   "cell_type": "markdown",
   "id": "35374eac-a600-472a-a8d8-515ffb4b6430",
   "metadata": {},
   "source": [
    "# Functions\n"
   ]
  },
  {
   "cell_type": "code",
   "execution_count": null,
   "id": "c948a9ff-0188-429d-bf03-0098d5e66313",
   "metadata": {},
   "outputs": [],
   "source": []
  },
  {
   "cell_type": "markdown",
   "id": "3d4378f9-4b3a-408d-b571-ff7bb0c76810",
   "metadata": {},
   "source": [
    "# FUNCTIONS : re-usability of code\n",
    "\n",
    "# If a group of statements is repeatedly required then it is not\n",
    "# recommended to write these\n",
    "# statements everytime seperately. We have to define these\n",
    "# statements as a single unit and\n",
    "# we can call that unit any number of times based on our\n",
    "# requirement without rewriting.\n",
    "# This unit is nothing but function.\n",
    "# The main advantage of functions is code Reusability.\n",
    "\n",
    "# 1. Built in Functions:\n",
    "# The functions which are coming along with Python software\n",
    "# automatically, are called built in functions or pre defined function\n",
    "    \n",
    "# id()\n",
    "# type()\n",
    "# input()\n",
    "# eval()\n",
    "\n",
    "# 2. User Defined Functions:\n",
    "# The functions which are developed by programmer explicitly\n",
    "# according to business"
   ]
  },
  {
   "cell_type": "code",
   "execution_count": 34,
   "id": "2bb9dcdd-5d56-48fe-900a-16cb5b81cb9c",
   "metadata": {},
   "outputs": [
    {
     "name": "stdout",
     "output_type": "stream",
     "text": [
      "(11, -1)\n"
     ]
    }
   ],
   "source": [
    "def add_sub(a,b):\n",
    "    return a+b,a-b\n",
    "if __name__ ==\"__main__\":\n",
    "    print(add_sub(5,6))"
   ]
  },
  {
   "cell_type": "code",
   "execution_count": 38,
   "id": "ee605299-3e65-4748-aa9b-5de7714ffe38",
   "metadata": {},
   "outputs": [
    {
     "name": "stdout",
     "output_type": "stream",
     "text": [
      "150 -50 5000 0.5\n"
     ]
    }
   ],
   "source": [
    "def mathop(a,b):\n",
    "    res1=a+b\n",
    "    res2=a-b\n",
    "    res3=a*b\n",
    "    res4=a/b\n",
    "    return res1,res2,res3,res4\n",
    "if __name__ == \"__main__\":\n",
    "    a=50\n",
    "    b=100\n",
    "    r1,r2,r3,r4=mathop(a,b)\n",
    "    print(r1,r2,r3,r4)"
   ]
  },
  {
   "cell_type": "markdown",
   "id": "d5ef46e7-91f1-4a97-aa75-47cd228f6231",
   "metadata": {},
   "source": [
    "# Variable length arguments\n",
    "# Sometimes we can pass variable number of arguments to our\n",
    "# function, such type of\n",
    "# arguments are called variable length arguments.\n",
    "\n",
    "# We can declare a variable length argument with * symbol as\n",
    "# follows\n",
    "\n",
    "# def f1(*n):\n",
    "\n",
    "# We can call this function by passing any number of arguments\n",
    "# including zero number.\n",
    "# Internally all these values represented in the form of tuple.\n"
   ]
  },
  {
   "cell_type": "code",
   "execution_count": 39,
   "id": "e1954e5e-e107-4b59-8e08-b6ee14d9d996",
   "metadata": {},
   "outputs": [
    {
     "name": "stdout",
     "output_type": "stream",
     "text": [
      "The sum=  10\n",
      "The sum=  100\n",
      "The sum=  305\n"
     ]
    }
   ],
   "source": [
    "def sum(*n):\n",
    "    total=0\n",
    "    for x in n:\n",
    "        total=total+x\n",
    "    print(\"The sum= \", total)\n",
    "sum(10)\n",
    "sum(10,20,30,40)\n",
    "sum(10,20,22,66,99,88)"
   ]
  },
  {
   "cell_type": "code",
   "execution_count": 49,
   "id": "7a459b03-b6be-4938-bff3-7d2b0d411225",
   "metadata": {},
   "outputs": [
    {
     "name": "stdout",
     "output_type": "stream",
     "text": [
      "120\n",
      "1\n"
     ]
    }
   ],
   "source": [
    "def fact(f):\n",
    "    res=1\n",
    "    if f==1 or f==0:\n",
    "       return 1\n",
    "    else:\n",
    "        res=f*fact(f-1)\n",
    "    return res\n",
    "print(fact(5))\n",
    "print(fact(1))"
   ]
  },
  {
   "cell_type": "code",
   "execution_count": 55,
   "id": "9bc7fb08-58bd-480e-bfc3-88f49af4935f",
   "metadata": {},
   "outputs": [
    {
     "data": {
      "text/plain": [
       "25"
      ]
     },
     "execution_count": 55,
     "metadata": {},
     "output_type": "execute_result"
    }
   ],
   "source": [
    "def mul(x,y):\n",
    "    if x==1:\n",
    "        return y\n",
    "    elif y==1:\n",
    "        return x\n",
    "    elif x==0 or y==0:\n",
    "        return 0\n",
    "    else:\n",
    "        return x*y\n",
    "mul(5,5)"
   ]
  },
  {
   "cell_type": "code",
   "execution_count": 57,
   "id": "baa39277-f31b-4662-b219-03fe45b900e4",
   "metadata": {},
   "outputs": [
    {
     "name": "stdout",
     "output_type": "stream",
     "text": [
      "25\n"
     ]
    }
   ],
   "source": [
    "#without mul operator \n",
    "#Multiplication using recursion\n",
    "\n",
    "def mul(x,y):\n",
    "    if x==1:\n",
    "        return y\n",
    "    elif y==1:\n",
    "        return x\n",
    "    elif x==0 or y==0:\n",
    "        return 0\n",
    "    else:\n",
    "        return x+mul(x,y-1)\n",
    "\n",
    "print(mul(5,5))"
   ]
  },
  {
   "cell_type": "markdown",
   "id": "3c38836b-cb39-4f9f-8fea-0f0096fe0770",
   "metadata": {},
   "source": [
    "# Lambda Function"
   ]
  },
  {
   "cell_type": "code",
   "execution_count": 61,
   "id": "9f4f1136-3ef0-4b9b-afdd-c84bff391dda",
   "metadata": {},
   "outputs": [
    {
     "name": "stdout",
     "output_type": "stream",
     "text": [
      "25\n"
     ]
    }
   ],
   "source": [
    "s= lambda n:n*n\n",
    "print(s(5))"
   ]
  },
  {
   "cell_type": "code",
   "execution_count": 63,
   "id": "81d63c5f-cedd-47d1-93d1-b37b13b73570",
   "metadata": {},
   "outputs": [
    {
     "name": "stdout",
     "output_type": "stream",
     "text": [
      "4\n"
     ]
    }
   ],
   "source": [
    "add= lambda a,b:a+b \n",
    "print(add(2,2))"
   ]
  },
  {
   "cell_type": "code",
   "execution_count": 70,
   "id": "8604efb4-b3cd-4f44-bfff-16f2c0b8678c",
   "metadata": {},
   "outputs": [
    {
     "name": "stdout",
     "output_type": "stream",
     "text": [
      "3\n"
     ]
    }
   ],
   "source": [
    "max_1= lambda a,b: a if a>b else b\n",
    "print(max_1(2,3))"
   ]
  },
  {
   "cell_type": "code",
   "execution_count": 71,
   "id": "c299ceaf-7b99-4a76-9631-a83e191827b5",
   "metadata": {},
   "outputs": [
    {
     "name": "stdout",
     "output_type": "stream",
     "text": [
      "[2, 2]\n"
     ]
    }
   ],
   "source": [
    "a1 = [1, 2, 2, 1]\n",
    "a2 = [2, 2]\n",
    "a3 = []\n",
    "for x in a1:\n",
    "  if x in a2:\n",
    "    a3.append(x)\n",
    "print(a3)"
   ]
  },
  {
   "cell_type": "markdown",
   "id": "dbba1b33-afc2-4e53-916e-a3b88793970c",
   "metadata": {},
   "source": [
    "a1=[1,2,3]\n",
    "a2=[2,4,6]\n",
    "a=[]\n",
    "b=[]\n",
    "for x in a1:\n",
    "    if x  not in a2:\n",
    "        a.append(x)\n",
    "\n",
    "for x in a2:\n",
    "    if x  not in a1:\n",
    "        b.append(x)\n",
    "ans=[a,b]\n",
    "print(ans)"
   ]
  },
  {
   "cell_type": "code",
   "execution_count": 132,
   "id": "c6dd096f-eed1-49a2-a7d7-c484b9ec2fec",
   "metadata": {},
   "outputs": [
    {
     "data": {
      "text/plain": [
       "[3, 4, 5, 1, 2]"
      ]
     },
     "execution_count": 132,
     "metadata": {},
     "output_type": "execute_result"
    }
   ],
   "source": [
    "#Rotation of array by k steps\n",
    "arr=[1,2,3,4,5]\n",
    "k=3\n",
    "ans=arr.copy()   \n",
    "ans = arr[-k:] + arr[:-k]\n",
    "ans"
   ]
  },
  {
   "cell_type": "code",
   "execution_count": 14,
   "id": "ef626b28-66a7-4886-9270-342178fcf6ef",
   "metadata": {},
   "outputs": [
    {
     "data": {
      "text/plain": [
       "[4, 5, 1, 2, 3]"
      ]
     },
     "execution_count": 14,
     "metadata": {},
     "output_type": "execute_result"
    }
   ],
   "source": [
    "arr=[1,2,3,4,5]\n",
    "k=2\n",
    "for x in range(k):\n",
    "    temp=arr[-1]\n",
    "    for i in range(len(arr)-1,-1,-1):\n",
    "        arr[i]=arr[i-1]\n",
    "    arr[0]=temp\n",
    "arr"
   ]
  },
  {
   "cell_type": "code",
   "execution_count": 35,
   "id": "26cd7f6a-448d-452d-b287-e7d2f8a8f72d",
   "metadata": {},
   "outputs": [
    {
     "name": "stdout",
     "output_type": "stream",
     "text": [
      "[2, 4, 5]\n",
      "[-1, -3, -6]\n",
      "[-1, 2, -3, 4, -6, 5]\n"
     ]
    }
   ],
   "source": [
    "arr=[-1,2,-3,4,5,-6]\n",
    "p_arr=[]\n",
    "n_arr=[]\n",
    "for x in arr:\n",
    "    if x<0:\n",
    "        n_arr.append(x)\n",
    "    else:\n",
    "        p_arr.append(x)\n",
    "arr=[]\n",
    "print(p_arr)\n",
    "print(n_arr)\n",
    "for i in range(len(n_arr)):\n",
    "    arr.append(n_arr[i])\n",
    "    arr.append(p_arr[i])\n",
    "\n",
    "print(arr)\n",
    "        "
   ]
  },
  {
   "cell_type": "code",
   "execution_count": 34,
   "id": "9ab9abf3-e13e-4f23-aa98-6ca3089b418a",
   "metadata": {},
   "outputs": [
    {
     "name": "stdout",
     "output_type": "stream",
     "text": [
      "[1, 2, 3, 4]\n"
     ]
    }
   ],
   "source": [
    "sample=[4,6,8,7,9,2,3,1,10]\n",
    "sample.sort()\n",
    "ans=[]\n",
    "for x in range(0,len(sample)-1,1):\n",
    "    if (sample[x+1]-sample[x]) == 1:\n",
    "        ans.append(sample[x]) \n",
    "    else:\n",
    "        ans.append(sample[x])\n",
    "        break\n",
    "print(ans)"
   ]
  },
  {
   "cell_type": "code",
   "execution_count": 49,
   "id": "13c9ff3c-57c2-4c36-946f-7f28f7fcc5a5",
   "metadata": {},
   "outputs": [
    {
     "name": "stdin",
     "output_type": "stream",
     "text": [
      "Enter n:  2\n",
      "Enter x:  2\n"
     ]
    },
    {
     "name": "stdout",
     "output_type": "stream",
     "text": [
      "5.0\n"
     ]
    }
   ],
   "source": [
    "n=int(input(\"Enter n: \"))\n",
    "x=int(input(\"Enter x: \"))\n",
    "sum=1\n",
    "for i in range(1,n+1):\n",
    "    sum=sum+((x**i)/i)\n",
    "print(sum)"
   ]
  },
  {
   "cell_type": "code",
   "execution_count": 51,
   "id": "d58d75c5-79f6-4f60-9a89-2a5dd5ad5d1c",
   "metadata": {},
   "outputs": [
    {
     "name": "stdin",
     "output_type": "stream",
     "text": [
      "Enter n:  2\n",
      "Enter x:  2\n"
     ]
    },
    {
     "name": "stdout",
     "output_type": "stream",
     "text": [
      "5.0\n"
     ]
    }
   ],
   "source": [
    "n=int(input(\"Enter n: \"))\n",
    "x=int(input(\"Enter x: \"))\n",
    "def fact(i):\n",
    "    fact=1\n",
    "    for x in range(1,i+1):\n",
    "        fact=fact*x\n",
    "    return fact\n",
    "sum=1\n",
    "for i in range(1,n+1):\n",
    "    sum=sum+((x**i)/fact(i))\n",
    "print(sum)"
   ]
  },
  {
   "cell_type": "code",
   "execution_count": 56,
   "id": "b6cf0d7f-e1c4-4878-8964-168093ad8cde",
   "metadata": {},
   "outputs": [
    {
     "name": "stdout",
     "output_type": "stream",
     "text": [
      "3\n"
     ]
    }
   ],
   "source": [
    "a = [4,2,-1,1]\n",
    "a.sort()\n",
    "for i in range(len(a)-1):\n",
    "  if (a[i]>0):\n",
    "    if(a[i]+1!=a[i+1]):\n",
    "      print(a[i]+1)\n",
    "      break"
   ]
  },
  {
   "cell_type": "code",
   "execution_count": 64,
   "id": "b3b05a5a-920f-4fe5-9517-980bb7555a14",
   "metadata": {},
   "outputs": [
    {
     "name": "stdin",
     "output_type": "stream",
     "text": [
      " 3000\n",
      " 1000\n"
     ]
    },
    {
     "name": "stdout",
     "output_type": "stream",
     "text": [
      "2000\n"
     ]
    }
   ],
   "source": [
    "# Diwali Discount\n",
    "b=int(input())\n",
    "a=int(input())\n",
    "if b>a:\n",
    "    print(b-a)\n",
    "else:\n",
    "    print(0)\n"
   ]
  },
  {
   "cell_type": "code",
   "execution_count": 66,
   "id": "ddec6cf8-fb4b-4381-8b89-5478b9b0b9cb",
   "metadata": {},
   "outputs": [
    {
     "name": "stdin",
     "output_type": "stream",
     "text": [
      " 100 500\n"
     ]
    },
    {
     "name": "stdout",
     "output_type": "stream",
     "text": [
      "1100\n"
     ]
    }
   ],
   "source": [
    "#Food Costs\n",
    "# cook your dish here\n",
    "x,y=map(int,input().split())\n",
    "sum=0\n",
    "for i in range(6):\n",
    "    sum=sum+x\n",
    "print(sum+y)"
   ]
  },
  {
   "cell_type": "code",
   "execution_count": 68,
   "id": "0f635c18-a42b-4043-b65d-e906188d0bb3",
   "metadata": {},
   "outputs": [
    {
     "name": "stdin",
     "output_type": "stream",
     "text": [
      " 123\n"
     ]
    },
    {
     "name": "stdout",
     "output_type": "stream",
     "text": [
      "123\n"
     ]
    }
   ],
   "source": [
    "#Number Mirror\n",
    "# cook your dish here\n",
    "n=input()\n",
    "print(n)"
   ]
  },
  {
   "cell_type": "code",
   "execution_count": 70,
   "id": "41868838-8ac8-4f6d-999d-61f3e785a085",
   "metadata": {},
   "outputs": [
    {
     "name": "stdin",
     "output_type": "stream",
     "text": [
      " 12\n"
     ]
    },
    {
     "name": "stdout",
     "output_type": "stream",
     "text": [
      "Yes\n"
     ]
    }
   ],
   "source": [
    "#Cricket World Cup Qualifier\n",
    "# cook your dish here\n",
    "x=int(input())\n",
    "if(x>=12 and x<=20):\n",
    "    print(\"Yes\")\n",
    "else:\n",
    "    print(\"No\")"
   ]
  },
  {
   "cell_type": "code",
   "execution_count": null,
   "id": "18dde222-05d5-438b-952e-d663eaff999b",
   "metadata": {},
   "outputs": [],
   "source": [
    "#Christmas Greetings\n",
    "# cook your dish here\n",
    "x=int(input())\n",
    "if x==25:\n",
    "    print(\"CHRISTMAS\")\n",
    "else:\n",
    "    print(\"ORDINARY\")"
   ]
  },
  {
   "cell_type": "code",
   "execution_count": 73,
   "id": "ded33a79-53a8-47e3-8963-ca8c531e1c7f",
   "metadata": {},
   "outputs": [
    {
     "name": "stdin",
     "output_type": "stream",
     "text": [
      " proceeding\n"
     ]
    },
    {
     "name": "stdout",
     "output_type": "stream",
     "text": [
      "d\n"
     ]
    }
   ],
   "source": [
    "#Lucky Seven\n",
    "# cook your dish here\n",
    "s=input()\n",
    "print(s[6])"
   ]
  },
  {
   "cell_type": "code",
   "execution_count": 74,
   "id": "3629d8cb-9ca9-42db-9208-6fab59f19abc",
   "metadata": {},
   "outputs": [
    {
     "name": "stdin",
     "output_type": "stream",
     "text": [
      " 30\n"
     ]
    },
    {
     "name": "stdout",
     "output_type": "stream",
     "text": [
      "NO\n"
     ]
    }
   ],
   "source": [
    "#IOI 2024\n",
    "# cook your dish here\n",
    "x=int(input())\n",
    "if 1<=x<=8:\n",
    "    print(\"YES\")\n",
    "else:\n",
    "    print(\"NO\")"
   ]
  },
  {
   "cell_type": "code",
   "execution_count": 76,
   "id": "cbae45b9-bad4-48ce-9851-d9727b5a5463",
   "metadata": {},
   "outputs": [
    {
     "name": "stdin",
     "output_type": "stream",
     "text": [
      " 5\n"
     ]
    },
    {
     "name": "stdout",
     "output_type": "stream",
     "text": [
      "16\n"
     ]
    }
   ],
   "source": [
    "# cook your dish here\n",
    "n=int(input())\n",
    "res=3*(n-1)\n",
    "\n",
    "print(res+4)"
   ]
  },
  {
   "cell_type": "code",
   "execution_count": 83,
   "id": "b1be9e52-f07f-40ba-9481-cf421801a09d",
   "metadata": {},
   "outputs": [
    {
     "name": "stdin",
     "output_type": "stream",
     "text": [
      " 1\n",
      " 6\n",
      " polish\n"
     ]
    },
    {
     "name": "stdout",
     "output_type": "stream",
     "text": [
      "Yes\n"
     ]
    }
   ],
   "source": [
    "#1 star problems\n",
    "#Easy Pronunciation\n",
    "# cook your dish here\n",
    "T=int(input())\n",
    "v=['a', 'e', 'i', 'o', 'u']\n",
    "for i in range(T):\n",
    "    n=int(input())\n",
    "    s=input()\n",
    "    count=0\n",
    "    f=False\n",
    "    for i in s:\n",
    "        if i not in v:\n",
    "            count+=1\n",
    "            if count==4:\n",
    "                f=True\n",
    "                break\n",
    "        else:\n",
    "            count=0\n",
    "    if f==True:\n",
    "        print(\"No\")\n",
    "    else:\n",
    "        print(\"Yes\")"
   ]
  },
  {
   "cell_type": "code",
   "execution_count": 90,
   "id": "0ee0ee01-a999-45ae-8b01-cf843c9cd857",
   "metadata": {},
   "outputs": [
    {
     "name": "stdin",
     "output_type": "stream",
     "text": [
      " 1\n",
      " 5 10\n",
      " 3 5 3 2 1\n"
     ]
    },
    {
     "name": "stdout",
     "output_type": "stream",
     "text": [
      "11010\n"
     ]
    }
   ],
   "source": [
    "#ATM Machine\n",
    "# cook your dish here\n",
    "T=int(input())\n",
    "for t in range(T):\n",
    "    n,k=map(int,input().split())\n",
    "    for a in map(int,input().split()):\n",
    "        \n",
    "        if k>=a:\n",
    "            k=k-a\n",
    "            print(1,end=\"\")\n",
    "        else:\n",
    "            print(0,end=\"\")\n",
    "    print()"
   ]
  },
  {
   "cell_type": "code",
   "execution_count": null,
   "id": "afa9f065-c04e-4896-9fa8-f6ce8a76cda9",
   "metadata": {},
   "outputs": [],
   "source": []
  }
 ],
 "metadata": {
  "kernelspec": {
   "display_name": "Python 3 (ipykernel)",
   "language": "python",
   "name": "python3"
  },
  "language_info": {
   "codemirror_mode": {
    "name": "ipython",
    "version": 3
   },
   "file_extension": ".py",
   "mimetype": "text/x-python",
   "name": "python",
   "nbconvert_exporter": "python",
   "pygments_lexer": "ipython3",
   "version": "3.12.4"
  }
 },
 "nbformat": 4,
 "nbformat_minor": 5
}
