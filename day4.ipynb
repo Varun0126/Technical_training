{
 "cells": [
  {
   "cell_type": "code",
   "execution_count": 1,
   "id": "a4a4209d-93c5-4ee9-9406-d827ab8098e4",
   "metadata": {},
   "outputs": [
    {
     "name": "stdin",
     "output_type": "stream",
     "text": [
      "Enter number of employees: 2\n",
      "Enter employee no :  3\n",
      "Enter employee name :  eren\n",
      "Enter employee salary :  5201301\n",
      "Enter employee address :  paradise island\n",
      "Enter employee no :  2\n",
      "Enter employee name :  zeek\n",
      "Enter employee salary :  462103\n",
      "Enter employee address :  Mar\n"
     ]
    },
    {
     "name": "stdout",
     "output_type": "stream",
     "text": [
      "Data inserted succesfully\n"
     ]
    }
   ],
   "source": [
    "import csv\n",
    "with open(\"emp.csv\",\"w\",newline='') as f:\n",
    "    w=csv.writer(f)\n",
    "    w.writerow([\"ENO\",\"ENAME\",\"ESALARY\",\"EADDR\"])\n",
    "    n=int(input(\"Enter number of employees:\"))\n",
    "    for i in range(n):\n",
    "        eno=input(\"Enter employee no : \")\n",
    "        ename=input(\"Enter employee name : \")\n",
    "        esal=input(\"Enter employee salary : \")\n",
    "        eaddr=input(\"Enter employee address : \")\n",
    "        w.writerow([eno,ename,esal,eaddr])\n",
    "print(\"Data inserted succesfully\")\n",
    "    "
   ]
  },
  {
   "cell_type": "code",
   "execution_count": null,
   "id": "48a3e398-fcd1-4441-844f-568afc89f2e4",
   "metadata": {},
   "outputs": [],
   "source": [
    "import csv\n",
    "f=open(\"emp.csv\",\"r\")\n",
    "r=csv.reader(f)\n",
    "data=list(r)\n",
    "print(data)\n"
   ]
  },
  {
   "cell_type": "code",
   "execution_count": 30,
   "id": "b54b9a2a-67f7-4d53-bfd6-a70601831451",
   "metadata": {},
   "outputs": [
    {
     "name": "stdout",
     "output_type": "stream",
     "text": [
      "8\n"
     ]
    }
   ],
   "source": [
    "def ArrayMinJumps(arr):\n",
    "    end=arr[-1]\n",
    "    jump=0\n",
    "    if len(arr)==0:\n",
    "        return -1\n",
    "    if len(arr)==1:\n",
    "        return 1\n",
    "    for i in range(0,len(arr)-1,1):\n",
    "        if arr[i]==end:\n",
    "            return jump+1\n",
    "        if i>len(arr):\n",
    "            return jump\n",
    "        if arr[i]<arr[i+1]:\n",
    "            jump +=1\n",
    "    return jump\n",
    "\n",
    "print(ArrayMinJumps([1,3,5,8,10,2,6,7,6,8,9]))\n"
   ]
  },
  {
   "cell_type": "code",
   "execution_count": 23,
   "id": "3c4421c3-e48c-495c-ad95-0da724edd5c5",
   "metadata": {},
   "outputs": [
    {
     "name": "stdout",
     "output_type": "stream",
     "text": [
      "2\n"
     ]
    }
   ],
   "source": [
    "def StringReduction(strParam):\n",
    "    redu_rule = {'ab': 'c', 'ba': 'c', 'ac': 'b', 'ca': 'b', 'bc': 'a', 'cb': 'a'}\n",
    "    s = list(strParam)\n",
    "    while True:\n",
    "        red = False\n",
    "        i = 0\n",
    "        while i < len(s) - 1:\n",
    "            pair = s[i] + s[i + 1]\n",
    "            if pair in redu_rule:\n",
    "                s[i] = redu_rule[pair]\n",
    "                del s[i + 1] \n",
    "                red = True\n",
    "            else:\n",
    "                i += 1\n",
    "        if not red:\n",
    "            break\n",
    "\n",
    "    return len(s)\n",
    "\n",
    "\n",
    "print(StringReduction(\"abab\"))  "
   ]
  },
  {
   "cell_type": "code",
   "execution_count": 36,
   "id": "e566d9b3-b7ca-4573-be1c-0fa3fe994f70",
   "metadata": {},
   "outputs": [
    {
     "name": "stdin",
     "output_type": "stream",
     "text": [
      "Enter Your Age 20\n"
     ]
    },
    {
     "name": "stdout",
     "output_type": "stream",
     "text": [
      "You are eligible for marry\n"
     ]
    }
   ],
   "source": [
    "#User define exception\n",
    "class TooYoungException(Exception):\n",
    "    def __init__(self, arg):\n",
    "        self.msg = arg\n",
    "\n",
    "class Too0ldException(Exception):\n",
    "    def __init__(self, arg):\n",
    "        self.msg = arg\n",
    "\n",
    "age=int(input(\"Enter Your Age\"))\n",
    "if age>60:\n",
    "    raise TooYoungException(\"Wait some time, we will find best mate\")\n",
    "elif age<18:\n",
    "    raise Too0ldException(\"You are not eligible for marry\")  \n",
    "else:\n",
    "    print(\"You are eligible for marry\")\n"
   ]
  },
  {
   "cell_type": "code",
   "execution_count": null,
   "id": "7e21dc20-b40d-4881-9866-c7d8dbdcca8b",
   "metadata": {},
   "outputs": [],
   "source": [
    "n=6\n",
    "arr=[16,17,4,3,5,2]\n",
    "max=arr[0]\n",
    "max_arr=[]\n",
    "for i in range(1,6):\n",
    "    if max<arr[i]:\n",
    "        max_arr.append(arr[i])\n",
    "        max"
   ]
  },
  {
   "cell_type": "code",
   "execution_count": 39,
   "id": "23a94e16-bfcb-4f48-95b7-4e0db5252ed0",
   "metadata": {},
   "outputs": [
    {
     "name": "stdout",
     "output_type": "stream",
     "text": [
      "[17, 5, 2]\n"
     ]
    }
   ],
   "source": [
    "#find the leaders in the array\n",
    "arr = [16,17,4,3,5,2]\n",
    "l = []\n",
    "for i in range(len(arr)):\n",
    "    maxx = arr[i]\n",
    "    for j in range(i,len(arr)):\n",
    "        if(arr[j]>maxx):\n",
    "            maxx = arr[j]\n",
    "    if maxx not in l:\n",
    "        l.append(maxx)\n",
    "print(l)"
   ]
  },
  {
   "cell_type": "code",
   "execution_count": 40,
   "id": "67b98de1-1b56-458a-969a-3dc053963e87",
   "metadata": {},
   "outputs": [
    {
     "name": "stdout",
     "output_type": "stream",
     "text": [
      "2 3\n"
     ]
    }
   ],
   "source": [
    "vowels = ['a' , 'e' , 'i' , 'o' , 'u']\n",
    "v = 0\n",
    "c = 0\n",
    "s = 'hello'\n",
    "for i in s:\n",
    "    if i not in vowels:\n",
    "        c =c+1\n",
    "    else:\n",
    "        v = v+1\n",
    "print(v,c)"
   ]
  },
  {
   "cell_type": "code",
   "execution_count": 43,
   "id": "a317d0eb-c5d4-483a-a31d-53601a5b9ce0",
   "metadata": {},
   "outputs": [
    {
     "name": "stdout",
     "output_type": "stream",
     "text": [
      "Palindrome\n"
     ]
    }
   ],
   "source": [
    "#palindrome list\n",
    "inplist=[1,2,3,2,1]\n",
    "palList=inplist[::-1]\n",
    "if inplist==palList:\n",
    "    print(\"Palindrome\")"
   ]
  },
  {
   "cell_type": "code",
   "execution_count": 46,
   "id": "19597b0e-b06e-4d4d-aff7-7dcbd74e0a04",
   "metadata": {},
   "outputs": [
    {
     "name": "stdout",
     "output_type": "stream",
     "text": [
      "Palindrome\n"
     ]
    }
   ],
   "source": [
    "#second approch\n",
    "l = [1,2,3,2,1]\n",
    "i = 0\n",
    "j = len(l)-1\n",
    "f = True\n",
    "while(i<=j):\n",
    "    if(l[i]==l[j]):\n",
    "        f = True\n",
    "    else:\n",
    "        f = False\n",
    "        break\n",
    "    i = i+1\n",
    "    j = j-1\n",
    "if(f == True):\n",
    "    print(\"Palindrome\")\n",
    "else:\n",
    "    print(\"Not Palindrome\")"
   ]
  },
  {
   "cell_type": "code",
   "execution_count": 60,
   "id": "70dfd13a-da26-4743-82f4-b83debfc7cab",
   "metadata": {},
   "outputs": [
    {
     "data": {
      "text/plain": [
       "[1, 2, 3, 4, 5, 6, 6, 7, 7, 8, 9]"
      ]
     },
     "execution_count": 60,
     "metadata": {},
     "output_type": "execute_result"
    }
   ],
   "source": [
    "# merge 2 sorted arrays\n",
    "a1 = [1,3,5,6,7]\n",
    "a2 = [2,4,6,7,8,9]\n",
    "ans = []\n",
    "i=0\n",
    "j=0\n",
    "f = 0\n",
    "while(True):\n",
    "    if(i>len(a1)-1):\n",
    "        f = 1\n",
    "        break\n",
    "        \n",
    "    elif(j>len(a2)-1):\n",
    "        f = 2\n",
    "        break\n",
    "        \n",
    "    if a1[i]<a2[j]:\n",
    "        ans.append(a1[i])\n",
    "        i=i+1\n",
    "    else:\n",
    "        ans.append(a2[j])\n",
    "        j=j+1\n",
    "\n",
    "if f ==1:\n",
    "    for i in range(j,len(a2)):\n",
    "        ans.append(a2[i])\n",
    "else:\n",
    "    for i in range(i,len(a1)):\n",
    "        ans.append(a1[i])\n",
    "ans"
   ]
  },
  {
   "cell_type": "code",
   "execution_count": 62,
   "id": "7689758b-ce72-4a12-905f-d8c849352580",
   "metadata": {},
   "outputs": [
    {
     "data": {
      "text/plain": [
       "[9, 8, 7, 6, 5, 4, 3, 2, 1]"
      ]
     },
     "execution_count": 62,
     "metadata": {},
     "output_type": "execute_result"
    }
   ],
   "source": [
    "#Reverse list without shortcut\n",
    "\n",
    "l = [1,2,3,4,5,6,7,8,9]\n",
    "i = 0\n",
    "j = len(l)-1\n",
    "while(i<j):\n",
    "    temp = l[i]\n",
    "    l[i]=l[j]\n",
    "    l[j]=temp\n",
    "    i = i+1\n",
    "    j = j-1\n",
    "\n",
    "l"
   ]
  },
  {
   "cell_type": "markdown",
   "id": "92ce9a05-6597-4263-bad5-0c0cc9d49690",
   "metadata": {},
   "source": [
    "# Object Orient  Programming\n",
    "object featuers:\n",
    "class,\n",
    "object,\n",
    "inheritance,\n",
    "polymorphism,\n",
    "encapsilation,\n",
    "dyanamic binding,\n",
    "exception handling,\n",
    "message passing"
   ]
  },
  {
   "cell_type": "markdown",
   "id": "2a7cbbc7-3bf4-449e-a22f-f4ffa63983ee",
   "metadata": {},
   "source": [
    "# Class is logical represantation of things class is like a blue print or template for the object\n",
    "object is physical represantion of the class and pyhsical representation of things "
   ]
  },
  {
   "cell_type": "markdown",
   "id": "ff47dcc4-a03a-4b05-83a7-0cc24fb9a018",
   "metadata": {},
   "source": [
    "# inheritance: Re use of code by inheriting from parent class\n"
   ]
  },
  {
   "cell_type": "markdown",
   "id": "8d2b00d8-a4c9-4c29-ae44-e229ebd40475",
   "metadata": {},
   "source": [
    "# PolyMorphism: Having multiple forms "
   ]
  },
  {
   "cell_type": "markdown",
   "id": "f1b0bebf-62b3-4e18-9d57-ee2afc099881",
   "metadata": {},
   "source": [
    "# Abstraction : Only showing essential details to the user"
   ]
  },
  {
   "cell_type": "markdown",
   "id": "0931c7e3-9073-4d7a-b3d4-e89674d2f48d",
   "metadata": {},
   "source": [
    "# Encapsulation : Binding the data in the single unit"
   ]
  },
  {
   "cell_type": "markdown",
   "id": "cea7237e-d6ea-4c06-abda-fc562dff0613",
   "metadata": {},
   "source": [
    "# Dynamic Binding : Allcoation of memory on Runtime"
   ]
  },
  {
   "cell_type": "markdown",
   "id": "f6f63fad-eb9a-4d52-b831-cfce49073e63",
   "metadata": {},
   "source": [
    "# Message passing: sending message from on class to another class\n"
   ]
  },
  {
   "cell_type": "markdown",
   "id": "dfa59f61-6525-4a92-ae03-4381a91de831",
   "metadata": {},
   "source": [
    "# Exception Handling: Handling runtime and compile time errors dynamically is  called Exception handling"
   ]
  },
  {
   "cell_type": "code",
   "execution_count": 81,
   "id": "de833ee4-495b-406b-ad5a-d59bc87a60fd",
   "metadata": {},
   "outputs": [
    {
     "name": "stdout",
     "output_type": "stream",
     "text": [
      "Name Varun , Rollno: B302\n"
     ]
    }
   ],
   "source": [
    "class Student:\n",
    "    def __init__(self):\n",
    "        self.name=\"Varun\"\n",
    "        self.roll=\"B302\"\n",
    "    def showInfo(self):\n",
    "        print(f\"Name {self.name} , Rollno: {self.roll}\")\n",
    "obj=Student()\n",
    "obj.showInfo()"
   ]
  },
  {
   "cell_type": "code",
   "execution_count": 90,
   "id": "6687e6f8-1a06-4859-8480-bff5468a6eec",
   "metadata": {},
   "outputs": [
    {
     "name": "stdout",
     "output_type": "stream",
     "text": [
      "Constructor is called....\n",
      "Hello Jash\n",
      "Your Age: 20\n",
      "Your Percentage: 88\n"
     ]
    }
   ],
   "source": [
    "class Student:\n",
    "    def __init__(self, name, age, percentage):  # Double underscores for __init__\n",
    "        print(\"Constructor is called....\")\n",
    "        self.name = name\n",
    "        self.age = age\n",
    "        self.percentage = percentage\n",
    "\n",
    "    def showInfo(self):\n",
    "        print(\"Hello\", self.name)\n",
    "        print(\"Your Age:\", self.age)\n",
    "        print(\"Your Percentage:\", self.percentage)\n",
    "\n",
    "s1 = Student(\"Jash\", 20, 88)\n",
    "s1.showInfo()\n"
   ]
  },
  {
   "cell_type": "code",
   "execution_count": 93,
   "id": "082015f4-3b11-4f35-b7c5-4b7cb489dc81",
   "metadata": {},
   "outputs": [
    {
     "name": "stdin",
     "output_type": "stream",
     "text": [
      "Enter name:  Varun\n",
      "Enter age:  20\n",
      "Enter percentage:  89\n"
     ]
    },
    {
     "name": "stdout",
     "output_type": "stream",
     "text": [
      "Hello Varun\n",
      "Your Age: 20\n",
      "Your Percentage: 89\n"
     ]
    }
   ],
   "source": [
    "class Student:\n",
    "    def __init__(self, name, age, percentage):\n",
    "        self.name = name\n",
    "        self.age = age\n",
    "        self.percentage = percentage\n",
    "\n",
    "    def showInfo(self):\n",
    "        print(\"Hello\", self.name)\n",
    "        print(\"Your Age:\", self.age)\n",
    "        print(\"Your Percentage:\", self.percentage)\n",
    "# Creating an instance with input values\n",
    "s1 = Student(input(\"Enter name: \"), input(\"Enter age: \"), input(\"Enter percentage: \"))\n",
    "s1.showInfo()  \n"
   ]
  },
  {
   "cell_type": "code",
   "execution_count": 96,
   "id": "984a2d83-62f8-4eee-b064-6bedd7b4f16c",
   "metadata": {},
   "outputs": [
    {
     "name": "stdout",
     "output_type": "stream",
     "text": [
      "{'a': 10, 'b': 20, 'c': 30, 'd': 40}\n",
      "{'a': 10, 'b': 20, 'c': 30}\n",
      "{'a': 10, 'b': 20}\n"
     ]
    }
   ],
   "source": [
    "class MyPython:\n",
    "    def __init__(self):  # Double underscores for __init__\n",
    "        self.a = 10\n",
    "        self.b = 20\n",
    "        self.c = 30\n",
    "        self.d = 40\n",
    "\n",
    "    def func(self):\n",
    "        del self.d  # Deletes instance variable 'd'\n",
    "\n",
    "m = MyPython()\n",
    "print(m.__dict__)  # Shows all instance variables\n",
    "m.func()           # Calls func to delete 'd'\n",
    "print(m.__dict__)  # 'd' should be removed here\n",
    "del m.c            # Deletes 'c' from the instance\n",
    "print(m.__dict__)  # 'c' should be removed here\n"
   ]
  },
  {
   "cell_type": "code",
   "execution_count": 97,
   "id": "3bb79c22-ceab-4867-afbc-dbc23371bd83",
   "metadata": {},
   "outputs": [
    {
     "ename": "AttributeError",
     "evalue": "'MyPython' object has no attribute 'a'",
     "output_type": "error",
     "traceback": [
      "\u001b[1;31m---------------------------------------------------------------------------\u001b[0m",
      "\u001b[1;31mAttributeError\u001b[0m                            Traceback (most recent call last)",
      "Cell \u001b[1;32mIn[97], line 9\u001b[0m\n\u001b[0;32m      7\u001b[0m m1 \u001b[38;5;241m=\u001b[39m MyPython()\n\u001b[0;32m      8\u001b[0m m2 \u001b[38;5;241m=\u001b[39m MyPython()\n\u001b[1;32m----> 9\u001b[0m \u001b[38;5;28mprint\u001b[39m(\u001b[38;5;124m\"\u001b[39m\u001b[38;5;124mm1-->\u001b[39m\u001b[38;5;124m\"\u001b[39m,m1\u001b[38;5;241m.\u001b[39mx,m1\u001b[38;5;241m.\u001b[39ma)\n\u001b[0;32m     10\u001b[0m \u001b[38;5;28mprint\u001b[39m(\u001b[38;5;124m\"\u001b[39m\u001b[38;5;124mm2-->\u001b[39m\u001b[38;5;124m\"\u001b[39m,m2\u001b[38;5;241m.\u001b[39mx,m2\u001b[38;5;241m.\u001b[39ma)\n\u001b[0;32m     11\u001b[0m MyPython\u001b[38;5;241m.\u001b[39mx \u001b[38;5;241m=\u001b[39m \u001b[38;5;241m111\u001b[39m\n",
      "\u001b[1;31mAttributeError\u001b[0m: 'MyPython' object has no attribute 'a'"
     ]
    }
   ],
   "source": [
    "# static variable\n",
    "class MyPython():\n",
    "    x = 20    # static variable\n",
    "    def _init_(self):\n",
    "        self.a = 10\n",
    "\n",
    "m1 = MyPython()\n",
    "m2 = MyPython()\n",
    "print(\"m1-->\",m1.x,m1.a)\n",
    "print(\"m2-->\",m2.x,m2.a)\n",
    "MyPython.x = 111\n",
    "m1.a = 222\n",
    "print(\"m1-->\",m1.x,m1.a)\n",
    "print(\"m2-->\",m2.x,m2.a)"
   ]
  },
  {
   "cell_type": "code",
   "execution_count": 98,
   "id": "7115913b-175b-4a1c-beb1-4c30113f962d",
   "metadata": {},
   "outputs": [
    {
     "name": "stdout",
     "output_type": "stream",
     "text": [
      "m1 --> 20 10\n",
      "m2 --> 20 10\n",
      "m1 --> 111 222\n",
      "m2 --> 111 10\n"
     ]
    }
   ],
   "source": [
    "class MyPython:\n",
    "    x = 20  # static variable (class variable)\n",
    "\n",
    "    def __init__(self):  # Double underscores for __init__\n",
    "        self.a = 10  # instance variable\n",
    "\n",
    "m1 = MyPython()\n",
    "m2 = MyPython()\n",
    "print(\"m1 -->\", m1.x, m1.a)  # Accessing static variable 'x' and instance variable 'a' for m1\n",
    "print(\"m2 -->\", m2.x, m2.a)  # Accessing static variable 'x' and instance variable 'a' for m2\n",
    "\n",
    "# Modifying the static variable 'x' at the class level\n",
    "MyPython.x = 111\n",
    "# Modifying the instance variable 'a' for m1 only\n",
    "m1.a = 222\n",
    "\n",
    "print(\"m1 -->\", m1.x, m1.a)  # 'x' is 111 (modified), 'a' is 222 (modified for m1 only)\n",
    "print(\"m2 -->\", m2.x, m2.a)  # 'x' is 111 (modified), 'a' remains 10 for m2\n"
   ]
  },
  {
   "cell_type": "code",
   "execution_count": null,
   "id": "6927f9a4-bf6d-4850-8425-3039575a0470",
   "metadata": {},
   "outputs": [],
   "source": []
  }
 ],
 "metadata": {
  "kernelspec": {
   "display_name": "Python 3 (ipykernel)",
   "language": "python",
   "name": "python3"
  },
  "language_info": {
   "codemirror_mode": {
    "name": "ipython",
    "version": 3
   },
   "file_extension": ".py",
   "mimetype": "text/x-python",
   "name": "python",
   "nbconvert_exporter": "python",
   "pygments_lexer": "ipython3",
   "version": "3.12.4"
  }
 },
 "nbformat": 4,
 "nbformat_minor": 5
}
