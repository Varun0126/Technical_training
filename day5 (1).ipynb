{
 "cells": [
  {
   "cell_type": "code",
   "execution_count": 1,
   "id": "3f191730-d42c-48d9-99ed-06a543595aed",
   "metadata": {},
   "outputs": [
    {
     "name": "stdin",
     "output_type": "stream",
     "text": [
      "Enter no of students 2\n",
      "Enter Student Name :  Lakhan\n",
      "Enter Student Percentage :  98\n"
     ]
    },
    {
     "name": "stdout",
     "output_type": "stream",
     "text": [
      "Hi  Lakhan  Your Percentage is :  98\n",
      "\n"
     ]
    },
    {
     "name": "stdin",
     "output_type": "stream",
     "text": [
      "Enter Student Name :  Jash Desi\n",
      "Enter Student Percentage :  69\n"
     ]
    },
    {
     "name": "stdout",
     "output_type": "stream",
     "text": [
      "Hi  Jash Desi  Your Percentage is :  69\n",
      "\n"
     ]
    }
   ],
   "source": [
    "class Student:\n",
    "    def setName(self,name):\n",
    "        self.name=name\n",
    "\n",
    "    def getName(self):\n",
    "        return self.name\n",
    "\n",
    "    def setPercentage(self,percentage):\n",
    "        self.percentage=percentage\n",
    "\n",
    "    def getPercentage(self):\n",
    "        return self.percentage\n",
    "\n",
    "n=int(input(\"Enter no of students\"))\n",
    "s=Student()\n",
    "for i in range(n):\n",
    "    name=input(\"Enter Student Name : \")\n",
    "    s.setName(name)\n",
    "    percentage=int(input(\"Enter Student Percentage : \"))\n",
    "    s.setPercentage(percentage)\n",
    "    print(\"Hi \",s.getName(),\" Your Percentage is : \",s.getPercentage())\n",
    "    print()"
   ]
  },
  {
   "cell_type": "code",
   "execution_count": 4,
   "id": "9d2e6fc7-cba7-4d0f-8d25-d658d95fd0a3",
   "metadata": {},
   "outputs": [
    {
     "name": "stdout",
     "output_type": "stream",
     "text": [
      "Employee no :  201\n",
      "Employee no :  Varun\n",
      "Employee no :  20000\n",
      "Updated value\n",
      "Employee no :  201\n",
      "Employee no :  Varun\n",
      "Employee no :  100000\n"
     ]
    }
   ],
   "source": [
    "#Passing members of one class to another class\n",
    "class Employee:\n",
    "    def __init__(self,no,name,sal):\n",
    "        self.eno=no\n",
    "        self.ename=name\n",
    "        self.esal=sal\n",
    "    def showDetails(self):\n",
    "        print(\"Employee no : \",self.eno)\n",
    "        print(\"Employee no : \",self.ename)\n",
    "        print(\"Employee no : \",self.esal)\n",
    "class Test:\n",
    "    def updates(Employee):\n",
    "        Employee.esal=Employee.esal+80000\n",
    "        print(\"Updated value\")\n",
    "        Employee.showDetails()\n",
    "e=Employee(201,\"Varun\",20000)\n",
    "e.showDetails()\n",
    "Test.updates(e)"
   ]
  },
  {
   "cell_type": "markdown",
   "id": "41178876-9547-4c19-a840-b380b8607e7c",
   "metadata": {},
   "source": [
    "# Setter and Getter Methods:\r\n",
    "\r\n",
    "# We can set and get the values of instance variables\r\n",
    "# by using getter and setter methods.\r\n",
    "\r\n",
    "# Setter Method:\r\n",
    "\r\n",
    "# setter methods is used to set values to the instance\r\n",
    "# variables and also known as mutator methods.\r\n",
    "\r\n",
    "# Syntax:\r\n",
    "\r\n",
    "# def setVariable(self,variable):\r\n",
    "# self.variable=variable\r\n",
    "\r\n",
    "# Getter Method:\r\n",
    "\r\n",
    "# Getter methods can be used to get values of the instance\r\n",
    "# variables. Getter methods also known as accessor methods."
   ]
  },
  {
   "cell_type": "markdown",
   "id": "0aaebf03-6e88-4dac-9c65-889334b95c24",
   "metadata": {},
   "source": [
    "# Inner class :-\r\n",
    "# When we declare class inside another class that are called as inner\r\n",
    "# class\r\n",
    "\r\n",
    "# Why should we go for inner class?\r\n",
    "# . When without existing one type of object there will be no chance to\r\n",
    "# exist another type of object that time we should go for inner class\r\n",
    "# . It increase the encapsulation\r\n",
    "# . It improves code readability and maintainable code"
   ]
  },
  {
   "cell_type": "markdown",
   "id": "a2d7d264-4127-4306-8de0-08e1883929f0",
   "metadata": {},
   "source": [
    "class NMIMS:\n",
    "    def init(self):  # Corrected constructor name\n",
    "        print(\"NMIMS Default constructor\")\n",
    "\n",
    "    class CE:\n",
    "        def init(self):\n",
    "            print(\"NMIMS-CE Default constructor\")  # Fixed indentation\n",
    "\n",
    "        def techFest(self):\n",
    "            print(\"techFest\")  # Fixed indentation\n",
    "\n",
    "# Creating objects and calling methods\n",
    "obj1 = NMIMS()          # This will call NMIMS constructor\n",
    "obj2 = obj1.CE()        # This will call CE constructor within NMIMS\n",
    "obj2.techFest()         # Calls techFest\n",
    "\n",
    "obj3 = NMIMS().CE()     # Directly creating NMIMS().CE() object\n",
    "obj3.techFest()         # Calls techFest"
   ]
  },
  {
   "cell_type": "markdown",
   "id": "373f3bfe-cf4f-4ee4-b040-1684867f0107",
   "metadata": {},
   "source": [
    "# Garbage Collection in python\n",
    ". As a programmer in C and C++ language we have responsibility to\n",
    "creating and deleting a objects.\n",
    ". In development time, if we forget to delete the object and at\n",
    "runtime of application, so many unused objects take memory so\n",
    "memory related issues may come over there.\n",
    "\n",
    ". In python we have garbage collection concept which running in\n",
    "background continuously to finding unused object and delete that\n",
    "objects also.\n",
    "\n",
    ". By using garbage collector the probability of application failure\n",
    "due to memory issues is very less."
   ]
  },
  {
   "cell_type": "code",
   "execution_count": 7,
   "id": "ba6503e3-5f1b-47ea-8ab9-2a2556be910e",
   "metadata": {},
   "outputs": [
    {
     "name": "stdout",
     "output_type": "stream",
     "text": [
      "Constructor is called\n",
      "DEstructor is called\n",
      "Application is ended\n"
     ]
    }
   ],
   "source": [
    "#destructor: __del__\n",
    "import gc\n",
    "class Time:\n",
    "    def __init__(self):\n",
    "        print(\"Constructor is called\")\n",
    "    def __del__(self):\n",
    "        print(\"DEstructor is called\")\n",
    "t=Time()\n",
    "t=None\n",
    "print(\"Application is ended\")"
   ]
  },
  {
   "cell_type": "code",
   "execution_count": 11,
   "id": "e711f745-28f0-4195-8f6e-79b3295f314c",
   "metadata": {},
   "outputs": [
    {
     "name": "stdout",
     "output_type": "stream",
     "text": [
      "Contructor is called\n",
      "Contructor is called\n",
      "Destructor is called\n"
     ]
    }
   ],
   "source": [
    "# del used for distroying objects\n",
    "class Time:\n",
    "    def __init__(self):\n",
    "        print(\"Contructor is called\")\n",
    "    def __del__(self):\n",
    "        print(\"Destructor is called\")\n",
    "\n",
    "t1=Time()\n",
    "t2=Time()\n",
    "t2=t1\n",
    "del t1"
   ]
  },
  {
   "cell_type": "code",
   "execution_count": 14,
   "id": "9f011e34-c3bb-4d9c-9747-f0bb64cdaae9",
   "metadata": {},
   "outputs": [
    {
     "name": "stdout",
     "output_type": "stream",
     "text": [
      "Two argument method : 32\n"
     ]
    }
   ],
   "source": [
    "#Constructor overloading\n",
    "class Test:\n",
    "    def __init__(self):\n",
    "        print(\"No argument method\")\n",
    "\n",
    "    def __init__(self,a):\n",
    "        print(\"One argument method :\",a)\n",
    "\n",
    "    def __init__(self,a,b):\n",
    "        print(\"Two argument method :\",(a+b))\n",
    "\n",
    "# t=Test()\n",
    "# t=Test(10)\n",
    "t=Test(10,22)"
   ]
  },
  {
   "cell_type": "code",
   "execution_count": 15,
   "id": "f3b9dfb9-44d0-48e2-810f-846bf004a1c8",
   "metadata": {},
   "outputs": [
    {
     "name": "stdout",
     "output_type": "stream",
     "text": [
      "Constructor with 0,1,2,3 arguments None None None\n",
      "Constructor with 0,1,2,3 arguments 10 None None\n",
      "Constructor with 0,1,2,3 arguments 10 22 None\n",
      "Constructor with 0,1,2,3 arguments 10 22 33\n"
     ]
    }
   ],
   "source": [
    "#constructor overloading with default arguments\n",
    "\n",
    "class Test:\n",
    "    def __init__(self,a=None,b=None,c=None):\n",
    "        print(\"Constructor with 0,1,2,3 arguments\",a,b,c)\n",
    "\n",
    "t=Test()\n",
    "t=Test(10)\n",
    "t=Test(10,22)\n",
    "t=Test(10,22,33)"
   ]
  },
  {
   "cell_type": "markdown",
   "id": "e7bfa302-6be9-4298-a36d-c96f8091aa08",
   "metadata": {},
   "source": [
    "# Inheritence\n",
    "Extending property from one class to another class is called\n",
    "inheritance.\n",
    "Directly we are getting here reusability concept\n",
    ". Base class: A class which inherits its property to another is called\n",
    "base class or parent class.\n",
    ". Derived class: A class in which properties are inherited called as\n",
    "derived class or child class.\n",
    "\n",
    "Types of inheritance\n",
    "1. Single Inheritance\n",
    "2. Multilevel Inheritance\n",
    "3. Multiple Inheritance\n",
    "4. Hierarchical Inheritance\n",
    "5. Hybrid Inheritance"
   ]
  },
  {
   "cell_type": "code",
   "execution_count": 24,
   "id": "258c53ce-a996-4867-8d7a-17dc211c5f83",
   "metadata": {},
   "outputs": [
    {
     "name": "stdout",
     "output_type": "stream",
     "text": [
      "I am in class A\n",
      "I am in class A\n",
      "I am in class B\n",
      "I am in class C\n"
     ]
    }
   ],
   "source": [
    "class A:\n",
    "    def showA(self):\n",
    "        print(\"I am in class A\")\n",
    "class B(A):\n",
    "    def showB(self):\n",
    "        print(\"I am in class B\")\n",
    "class C(B):\n",
    "    def showC(self):\n",
    "        print(\"I am in class C\")\n",
    "obj=A()\n",
    "obj.showA()\n",
    "obj1=C()\n",
    "obj.showA()\n",
    "obj1.showB()\n",
    "obj1.showC()"
   ]
  },
  {
   "cell_type": "code",
   "execution_count": 25,
   "id": "eef21837-ca82-41ee-982a-f11ef5cfb719",
   "metadata": {},
   "outputs": [],
   "source": [
    "#Single Inheritence\n",
    "class A:\n",
    "    def showA(self):\n",
    "        print(\"I am in class A\")\n",
    "\n",
    "class B(A):  # Single inheritance\n",
    "    def showB(self):\n",
    "        print(\"I am in class B\")\n",
    "\n",
    "obj = B()\n",
    "obj.showA()\n",
    "obj.showB()\n"
   ]
  },
  {
   "cell_type": "code",
   "execution_count": 26,
   "id": "3fb1998d-3aa8-4e0a-be51-5ea166560669",
   "metadata": {},
   "outputs": [
    {
     "name": "stdout",
     "output_type": "stream",
     "text": [
      "I am in class A\n",
      "I am in class B\n",
      "I am in class C\n"
     ]
    }
   ],
   "source": [
    "#multiple Inheritence\n",
    "class A:\n",
    "    def showA(self):\n",
    "        print(\"I am in class A\")\n",
    "\n",
    "class B:\n",
    "    def showB(self):\n",
    "        print(\"I am in class B\")\n",
    "\n",
    "class C(A, B):  # Multiple inheritance\n",
    "    def showC(self):\n",
    "        print(\"I am in class C\")\n",
    "\n",
    "obj = C()\n",
    "obj.showA()\n",
    "obj.showB()\n",
    "obj.showC()\n"
   ]
  },
  {
   "cell_type": "code",
   "execution_count": 29,
   "id": "7b070f31-8eb2-4f74-833d-0735505d55f4",
   "metadata": {},
   "outputs": [
    {
     "name": "stdout",
     "output_type": "stream",
     "text": [
      "I am in class A\n",
      "I am in class B\n",
      "I am in class C\n"
     ]
    }
   ],
   "source": [
    "#multilevel inheritence\n",
    "class A:\n",
    "    def showA(self):\n",
    "        print(\"I am in class A\")\n",
    "\n",
    "class B(A):  # Single inheritance\n",
    "    def showB(self):\n",
    "        print(\"I am in class B\")\n",
    "\n",
    "class C(B):  # Multilevel inheritance\n",
    "    def showC(self):\n",
    "        print(\"I am in class C\")\n",
    "\n",
    "obj = C()\n",
    "obj.showA()\n",
    "obj.showB()\n",
    "obj.showC()\n"
   ]
  },
  {
   "cell_type": "code",
   "execution_count": 28,
   "id": "e00a16cc-d8ad-4eb8-932f-a3acec0724b7",
   "metadata": {},
   "outputs": [
    {
     "name": "stdout",
     "output_type": "stream",
     "text": [
      "I am in class A\n",
      "I am in class B\n",
      "I am in class A\n",
      "I am in class C\n"
     ]
    }
   ],
   "source": [
    "#Hierarchical Inheritance\n",
    "class A:\n",
    "    def showA(self):\n",
    "        print(\"I am in class A\")\n",
    "\n",
    "class B(A):  # Inherits from A\n",
    "    def showB(self):\n",
    "        print(\"I am in class B\")\n",
    "\n",
    "class C(A):  # Inherits from A\n",
    "    def showC(self):\n",
    "        print(\"I am in class C\")\n",
    "\n",
    "obj1 = B()\n",
    "obj2 = C()\n",
    "\n",
    "obj1.showA()\n",
    "obj1.showB()\n",
    "\n",
    "obj2.showA()\n",
    "obj2.showC()\n"
   ]
  },
  {
   "cell_type": "code",
   "execution_count": 27,
   "id": "fe549138-08b5-4471-bba6-6a58a68e60c9",
   "metadata": {},
   "outputs": [
    {
     "name": "stdout",
     "output_type": "stream",
     "text": [
      "I am in class A\n",
      "I am in class B\n",
      "I am in class C\n",
      "I am in class D\n"
     ]
    }
   ],
   "source": [
    "#Hybrid Inheritance\n",
    "class A:\n",
    "    def showA(self):\n",
    "        print(\"I am in class A\")\n",
    "\n",
    "class B(A):  # Inherits from A\n",
    "    def showB(self):\n",
    "        print(\"I am in class B\")\n",
    "\n",
    "class C(A):  # Inherits from A\n",
    "    def showC(self):\n",
    "        print(\"I am in class C\")\n",
    "\n",
    "class D(B, C):  # Multiple inheritance\n",
    "    def showD(self):\n",
    "        print(\"I am in class D\")\n",
    "\n",
    "obj = D()\n",
    "obj.showA()\n",
    "obj.showB()\n",
    "obj.showC()\n",
    "obj.showD()\n"
   ]
  },
  {
   "cell_type": "markdown",
   "id": "6a9158a8-0ce6-4b50-a0d7-c130cbab1fd5",
   "metadata": {},
   "source": [
    "# Polymorphism\n",
    ">Polymorphism means having many forms.\n",
    ">We can define polymorphism as the ability of a message\n",
    "to be displayed in more than one form.\n",
    "Eg: A person in real world can perform many task\n",
    "\n",
    "In shopping mall behave like customer\n",
    "\n",
    "V In school behave like student\n",
    "\n",
    "V In bus behave like passenger\n",
    "\n",
    "At home behave like son"
   ]
  },
  {
   "cell_type": "code",
   "execution_count": null,
   "id": "e215fe0a-43a2-4d76-8454-f68e2048057c",
   "metadata": {},
   "outputs": [],
   "source": [
    "#method overloading\n",
    "class Test:\n",
    "    def func1(self):\n",
    "        print(\"No argument method\")\n",
    "\n",
    "    def func1(self,a):\n",
    "        print(\"One argument method :\",a)\n",
    "\n",
    "    def func1(self,a,b):\n",
    "        print(\"Two argument method :\",(a+b))\n",
    "\n",
    "t=Test()\n",
    "# t.func1()\n",
    "# t.func1(10)\n",
    "t.func1(10,20)"
   ]
  },
  {
   "cell_type": "markdown",
   "id": "6852aefc-2b5b-4e56-8fa1-0ab76389da56",
   "metadata": {},
   "source": [
    "# Overriding\r\n",
    "# if child class is not satisfied by function written in parent class then \r\n",
    "# child can re write that function defination"
   ]
  },
  {
   "cell_type": "code",
   "execution_count": null,
   "id": "6ac802a1-d995-45a4-b352-c3ffe082e75d",
   "metadata": {},
   "outputs": [],
   "source": [
    "class Parent:\n",
    "    def __init__(self):\n",
    "        print(\"Cash , gold \")\n",
    "    def bike(self):\n",
    "        print(\"Splendor+\")\n",
    "class Child(Parent):\n",
    "    def bike (self):\n",
    "        print(\"kawasaki H2\")\n",
    "obj=Child()\n",
    "obj.bike()"
   ]
  },
  {
   "cell_type": "markdown",
   "id": "02a05fac-8a0b-4565-9cf4-7b3b5ae933bb",
   "metadata": {},
   "source": [
    "# Abstraction\n",
    "> hinding the unneccesary details from the user and showing essential data to the user\n",
    "> \n",
    "A class that contains one or more abstract methods is called as\n",
    "abstract class.\n",
    "An abstract method has a declaration but does not have an\n",
    "implementation.\n",
    "It allows us to create a set of methods that must be created &\n",
    "implemented by child classes.\n",
    "A method becomes abstract when decorated with the keyword\n",
    "@abstractmethod."
   ]
  },
  {
   "cell_type": "code",
   "execution_count": 36,
   "id": "367df318-4024-460d-89b3-e6ddc08c8027",
   "metadata": {},
   "outputs": [
    {
     "name": "stdout",
     "output_type": "stream",
     "text": [
      "m1 method implemented\n",
      "m2 method implemented\n"
     ]
    }
   ],
   "source": [
    "from abc import ABC, abstractmethod\n",
    "class Test(ABC):\n",
    "    @abstractmethod\n",
    "    def m1(self):\n",
    "        pass\n",
    "    @abstractmethod\n",
    "    def m2(self):\n",
    "        pass\n",
    "class MyPython(Test):\n",
    "    def m1(self):\n",
    "        print(\"m1 method implemented\")\n",
    "    def m2(self):\n",
    "        print(\"m2 method implemented\")\n",
    "m=MyPython()\n",
    "m.m1()\n",
    "m.m2()"
   ]
  },
  {
   "cell_type": "code",
   "execution_count": 1,
   "id": "b893626b-13fe-4ee6-adbe-69466c61e62c",
   "metadata": {},
   "outputs": [
    {
     "name": "stdout",
     "output_type": "stream",
     "text": [
      "100\n",
      "200\n",
      "300\n",
      "100\n",
      "200\n",
      "300\n",
      "100\n",
      "200\n",
      "300\n"
     ]
    }
   ],
   "source": [
    "#To access private variable- _Test1__a\n",
    "class Test1:\n",
    "  def __init__(self):\n",
    "    self.a=100\n",
    "    self._a=200\n",
    "    self.__a=300\n",
    "\n",
    "  def show1(self):\n",
    "    print(self.a)\n",
    "    print(self._a)\n",
    "    print(self.__a)\n",
    "\n",
    "class Test2(Test1):\n",
    "  def show2(self):\n",
    "    print(self.a)\n",
    "    print(self._a)\n",
    "    print(self._Test1__a)\n",
    "\n",
    "class Test3(Test2):\n",
    "  def show3(self):\n",
    "    print(self.a)\n",
    "    print(self._a)\n",
    "    print(self._Test1__a)\n",
    "\n",
    "obj=Test3()\n",
    "obj.show1()\n",
    "obj.show2()\n",
    "obj.show3()"
   ]
  },
  {
   "cell_type": "code",
   "execution_count": 6,
   "id": "11e0ad63-b56f-450c-9ee7-ef72c569a032",
   "metadata": {},
   "outputs": [
    {
     "name": "stdout",
     "output_type": "stream",
     "text": [
      "1. Add\n",
      "2. Sub\n",
      "3. Mul\n",
      "4. Div\n",
      "0. Exit\n"
     ]
    },
    {
     "name": "stdin",
     "output_type": "stream",
     "text": [
      "Select. Any choice 0\n"
     ]
    },
    {
     "ename": "SystemExit",
     "evalue": "0",
     "output_type": "error",
     "traceback": [
      "An exception has occurred, use %tb to see the full traceback.\n",
      "\u001b[1;31mSystemExit\u001b[0m\u001b[1;31m:\u001b[0m 0\n"
     ]
    },
    {
     "name": "stderr",
     "output_type": "stream",
     "text": [
      "D:\\python\\Lib\\site-packages\\IPython\\core\\interactiveshell.py:3585: UserWarning: To exit: use 'exit', 'quit', or Ctrl-D.\n",
      "  warn(\"To exit: use 'exit', 'quit', or Ctrl-D.\", stacklevel=1)\n"
     ]
    }
   ],
   "source": [
    "#menu driven program\n",
    "import sys\n",
    "class Arithmatic:\n",
    "    def add(self):\n",
    "        pass\n",
    "    def sub(self):\n",
    "        pass\n",
    "    def mul(self):\n",
    "        pass\n",
    "    def div(self):\n",
    "        pass\n",
    "obj=Arithmatic()\n",
    "while True:\n",
    "    print(\"1. Add\")\n",
    "    print(\"2. Sub\")\n",
    "    print(\"3. Mul\")\n",
    "    print(\"4. Div\")\n",
    "    print(\"0. Exit\")\n",
    "    n=int(input(\"Select. Any choice\"))\n",
    "    if n == 1:\n",
    "        obj.add()\n",
    "    elif n == 2:\n",
    "        obj.sub()\n",
    "    elif n == 3:\n",
    "        obj.mul()\n",
    "    elif n == 4:\n",
    "        obj.div()\n",
    "    elif n == 0:\n",
    "        sys.exit(0)"
   ]
  },
  {
   "cell_type": "code",
   "execution_count": 15,
   "id": "ffa4b15d-6cf8-4488-9907-6d7011da4f23",
   "metadata": {},
   "outputs": [
    {
     "name": "stdout",
     "output_type": "stream",
     "text": [
      "Employee is working\n",
      "Salary not assigned\n",
      "HR is Working\n",
      "HR Manager's salary is: 12031\n",
      "Employee added: Eren Yeager\n",
      "Showing employee details\n"
     ]
    }
   ],
   "source": [
    "class Employee:\n",
    "    def __init()__:\n",
    "        salary \n",
    "        name\n",
    "    def work(self):\n",
    "        pass\n",
    "    def getSalary(self):\n",
    "        return self.salary\n",
    "\n",
    "class HRManager(Employee):\n",
    "    def __init__(self):\n",
    "       super().__init__(5000):\n",
    "\n",
    "    def work(self):\n",
    "        print(\"HR is Working\")\n",
    "\n",
    "    def getSalary(self): \n",
    "        print(f\"HR Manager's salary is: {self.salary}\")\n",
    "\n",
    "    def addEmployee(self, name):\n",
    "        print(f\"Employee added: {name}\")\n",
    "\n",
    "    def showEmployee(self):\n",
    "        print(\"Showing employee details\")\n",
    "\n",
    "# Example usage\n",
    "obj = Employee()\n",
    "obj.work()  \n",
    "obj.getSalary()  \n",
    "\n",
    "obj1 = HRManager(12031)  \n",
    "obj1.work()  \n",
    "obj1.getSalary()  \n",
    "obj1.addEmployee(\"Eren Yeager\")  \n",
    "obj1.showEmployee() "
   ]
  },
  {
   "cell_type": "code",
   "execution_count": 16,
   "id": "700686ea-ceb0-4b04-ad08-da62c3ae576e",
   "metadata": {},
   "outputs": [
    {
     "name": "stdout",
     "output_type": "stream",
     "text": [
      "Employee is working\n",
      "3000\n",
      "HR is Working\n",
      "HR Manager's salary is: 5000\n",
      "Employee added: Eren Yeager\n",
      "Showing employee details\n"
     ]
    }
   ],
   "source": [
    "class Employee:\n",
    "    def __init__(self, salary, name):\n",
    "        self.salary = salary\n",
    "        self.name = name\n",
    "\n",
    "    def work(self):\n",
    "        print(\"Employee is working\")\n",
    "\n",
    "    def getSalary(self):\n",
    "        return self.salary\n",
    "\n",
    "class HRManager(Employee):\n",
    "    def __init__(self):\n",
    "        super().__init__(5000, \"HR Manager\") \n",
    "    def work(self):\n",
    "        print(\"HR is Working\")\n",
    "\n",
    "    def getSalary(self): \n",
    "        print(f\"HR Manager's salary is: {self.salary}\")\n",
    "\n",
    "    def addEmployee(self, name):\n",
    "        print(f\"Employee added: {name}\")\n",
    "\n",
    "    def showEmployee(self):\n",
    "        print(\"Showing employee details\")\n",
    "\n",
    "# Example usage\n",
    "obj = Employee(3000, \"Levi Ackerman\")\n",
    "obj.work()                \n",
    "print(obj.getSalary()) \n",
    "obj1 = HRManager()        \n",
    "obj1.work()               \n",
    "obj1.getSalary()          \n",
    "obj1.addEmployee(\"Eren Yeager\")  \n",
    "obj1.showEmployee()       \n"
   ]
  },
  {
   "cell_type": "code",
   "execution_count": null,
   "id": "79d871a9-2961-4b4e-9b4d-0543fcab6bfb",
   "metadata": {},
   "outputs": [],
   "source": []
  }
 ],
 "metadata": {
  "kernelspec": {
   "display_name": "Python 3 (ipykernel)",
   "language": "python",
   "name": "python3"
  },
  "language_info": {
   "codemirror_mode": {
    "name": "ipython",
    "version": 3
   },
   "file_extension": ".py",
   "mimetype": "text/x-python",
   "name": "python",
   "nbconvert_exporter": "python",
   "pygments_lexer": "ipython3",
   "version": "3.12.4"
  }
 },
 "nbformat": 4,
 "nbformat_minor": 5
}
